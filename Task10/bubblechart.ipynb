{
 "cells": [
  {
   "cell_type": "code",
   "execution_count": 1,
   "id": "e3e23c8b-dc74-4ea7-a3f4-73681071ee77",
   "metadata": {},
   "outputs": [],
   "source": [
    "import pandas as pd\n",
    "import plotly.express as px\n",
    "from datetime import datetime\n",
    "import pytz"
   ]
  },
  {
   "cell_type": "code",
   "execution_count": 2,
   "id": "f976b324-554f-47eb-aa80-6d168af8d053",
   "metadata": {},
   "outputs": [],
   "source": [
    "df = pd.read_csv('bubble_chart_data.csv')"
   ]
  },
  {
   "cell_type": "code",
   "execution_count": 3,
   "id": "e017342f-5a39-435d-94c2-b4dca1f0cda7",
   "metadata": {},
   "outputs": [],
   "source": [
    "filtered_df = df[\n",
    "    (df['Rating'] > 3.5) &\n",
    "    (df['Category'].str.lower().isin(['game', 'beauty', 'business', 'comics', 'communication', 'dating', 'entertainment', 'social', 'event'])) &\n",
    "    (df['Reviews'] > 500) &\n",
    "    (df['Sentiment_Subjectivity'] > 0.5) &\n",
    "    (df['Installs'] > 50000)\n",
    "]\n",
    "ist = pytz.timezone('Asia/Kolkata')\n",
    "now = datetime.now(ist)\n",
    "current_hour = now.hour"
   ]
  },
  {
   "cell_type": "code",
   "execution_count": null,
   "id": "0cd6863f-7066-42d0-b85d-13b0946f9c27",
   "metadata": {},
   "outputs": [],
   "source": []
  }
 ],
 "metadata": {
  "kernelspec": {
   "display_name": "Python 3 (ipykernel)",
   "language": "python",
   "name": "python3"
  },
  "language_info": {
   "codemirror_mode": {
    "name": "ipython",
    "version": 3
   },
   "file_extension": ".py",
   "mimetype": "text/x-python",
   "name": "python",
   "nbconvert_exporter": "python",
   "pygments_lexer": "ipython3",
   "version": "3.13.3"
  }
 },
 "nbformat": 4,
 "nbformat_minor": 5
}
