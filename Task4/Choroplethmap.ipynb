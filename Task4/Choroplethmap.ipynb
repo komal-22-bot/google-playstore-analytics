{
 "cells": [
  {
   "cell_type": "code",
   "execution_count": 1,
   "id": "94069ab2-2e37-4e09-a6b4-72b2242d5c65",
   "metadata": {},
   "outputs": [],
   "source": [
    "import pandas as pd\n",
    "import plotly.express as px\n",
    "from datetime import datetime\n",
    "import pytz"
   ]
  },
  {
   "cell_type": "code",
   "execution_count": 2,
   "id": "ddd5abbd-6fb0-4aec-86dd-f50f996ac099",
   "metadata": {},
   "outputs": [
    {
     "name": "stdout",
     "output_type": "stream",
     "text": [
      "This chart is only visible between 6 PM and 8 PM IST.\n"
     ]
    }
   ],
   "source": [
    "df = pd.read_csv(\"globallyinstalls.csv\")\n",
    "df = df[~df['Category'].str.startswith(('A', 'C', 'G', 'S'), na=False)]\n",
    "category_country = df.groupby(['Category', 'Country', 'Latitude', 'Longitude'], as_index=False)['Installs'].sum()\n",
    "top_categories = category_country.groupby('Category')['Installs'].sum().nlargest(5).index\n",
    "category_country = category_country[category_country['Category'].isin(top_categories)]\n",
    "country_data = category_country.copy()\n",
    "country_data['Highlight'] = country_data['Installs'] > 1000000\n",
    "\n",
    "ist = pytz.timezone('Asia/Kolkata')\n",
    "current_time = datetime.now(ist)\n",
    "\n",
    "if 18 <= current_time.hour < 20:\n",
    "    fig = px.choropleth(\n",
    "        country_data,\n",
    "        locations=\"Country\",\n",
    "        locationmode=\"country names\",\n",
    "        color=\"Installs\",\n",
    "        hover_name=\"Category\",\n",
    "        color_continuous_scale=px.colors.sequential.Plasma,\n",
    "        title=\"Global Installs by Category (Top 5)\"\n",
    "    )\n",
    "    fig.show()\n",
    "else:\n",
    "    print(\"This chart is only visible between 6 PM and 8 PM IST.\")"
   ]
  },
  {
   "cell_type": "code",
   "execution_count": null,
   "id": "db05c441-545a-463f-88c6-74abe8aabf73",
   "metadata": {},
   "outputs": [],
   "source": []
  }
 ],
 "metadata": {
  "kernelspec": {
   "display_name": "Python 3 (ipykernel)",
   "language": "python",
   "name": "python3"
  },
  "language_info": {
   "codemirror_mode": {
    "name": "ipython",
    "version": 3
   },
   "file_extension": ".py",
   "mimetype": "text/x-python",
   "name": "python",
   "nbconvert_exporter": "python",
   "pygments_lexer": "ipython3",
   "version": "3.13.3"
  }
 },
 "nbformat": 4,
 "nbformat_minor": 5
}
