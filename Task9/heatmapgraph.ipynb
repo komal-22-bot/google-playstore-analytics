{
 "cells": [
  {
   "cell_type": "code",
   "execution_count": 1,
   "id": "ceb74955-12e9-4781-9aa6-a03b69d2eef2",
   "metadata": {},
   "outputs": [],
   "source": [
    "import pandas as pd\n",
    "import seaborn as sns\n",
    "import matplotlib.pyplot as plt\n",
    "from datetime import datetime\n",
    "import pytz"
   ]
  },
  {
   "cell_type": "code",
   "execution_count": 2,
   "id": "dc9799ba-a78f-450c-b728-19790073361f",
   "metadata": {},
   "outputs": [
    {
     "name": "stderr",
     "output_type": "stream",
     "text": [
      "C:\\Users\\Komal\\AppData\\Local\\Temp\\ipykernel_28880\\404892271.py:2: UserWarning: Parsing dates in %d-%m-%Y format when dayfirst=False (the default) was specified. Pass `dayfirst=True` or specify a format to silence this warning.\n",
      "  df[\"Updated Date\"] = pd.to_datetime(df[\"Updated Date\"])\n"
     ]
    }
   ],
   "source": [
    "df = pd.read_csv(\"heatmap_data.csv\")\n",
    "df[\"Updated Date\"] = pd.to_datetime(df[\"Updated Date\"])"
   ]
  },
  {
   "cell_type": "code",
   "execution_count": 3,
   "id": "5bea829f-6b11-4327-95e3-8e03cb764493",
   "metadata": {},
   "outputs": [],
   "source": [
    "one_year_ago = pd.Timestamp.today() - pd.DateOffset(years=1)\n",
    "df = df[df[\"Updated Date\"] >= one_year_ago]\n",
    "df = df[(df[\"Installs\"] >= 100000) & (df[\"Review Count\"] > 1000)]\n",
    "excluded_genre_starts = tuple(\"AFEGIK\")\n",
    "df = df[~df[\"Genre\"].str.startswith(excluded_genre_starts)]\n",
    "ist = pytz.timezone(\"Asia/Kolkata\")\n",
    "now = datetime.now(ist)\n",
    "start_time = now.replace(hour=14, minute=0, second=0, microsecond=0)\n",
    "end_time = now.replace(hour=16, minute=0, second=0, microsecond=0)"
   ]
  },
  {
   "cell_type": "code",
   "execution_count": 4,
   "id": "c6d4ddc0-0912-4b97-a0aa-2eda9d06c116",
   "metadata": {},
   "outputs": [
    {
     "name": "stdout",
     "output_type": "stream",
     "text": [
      "⏳ The heatmap is visible only between 2 PM and 4 PM IST.\n"
     ]
    }
   ],
   "source": [
    "if start_time <= now <= end_time:\n",
    "    corr_matrix = df[[\"Installs\", \"Ratings\", \"Review Count\"]].corr()\n",
    "    plt.figure(figsize=(8, 6))\n",
    "    sns.heatmap(corr_matrix, annot=True, cmap=\"coolwarm\", fmt=\".2f\")\n",
    "    plt.title(\"Correlation Heatmap (Visible Only 2–4 PM IST)\")\n",
    "    plt.show()\n",
    "else:\n",
    "    print(\"⏳ The heatmap is visible only between 2 PM and 4 PM IST.\")"
   ]
  }
 ],
 "metadata": {
  "kernelspec": {
   "display_name": "Python 3 (ipykernel)",
   "language": "python",
   "name": "python3"
  },
  "language_info": {
   "codemirror_mode": {
    "name": "ipython",
    "version": 3
   },
   "file_extension": ".py",
   "mimetype": "text/x-python",
   "name": "python",
   "nbconvert_exporter": "python",
   "pygments_lexer": "ipython3",
   "version": "3.13.3"
  }
 },
 "nbformat": 4,
 "nbformat_minor": 5
}
