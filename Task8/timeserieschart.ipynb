{
 "cells": [
  {
   "cell_type": "code",
   "execution_count": 1,
   "id": "030af85d-bbe1-4e86-922b-271b4c5e05aa",
   "metadata": {},
   "outputs": [],
   "source": [
    "import pandas as pd\n",
    "import matplotlib.pyplot as plt\n",
    "import seaborn as sns\n",
    "from datetime import datetime\n",
    "import pytz"
   ]
  },
  {
   "cell_type": "code",
   "execution_count": 2,
   "id": "419c47a0-ef11-4c20-8b16-6c77231ca4a2",
   "metadata": {},
   "outputs": [],
   "source": [
    "df = pd.read_csv(\"trendof_install.csv\")\n",
    "df['Date'] = pd.to_datetime(df['Date'])"
   ]
  },
  {
   "cell_type": "code",
   "execution_count": 3,
   "id": "206e0441-8d4b-4a55-9728-bb4ca104c4d8",
   "metadata": {},
   "outputs": [],
   "source": [
    "df = df[\n",
    "    ~df['App Name'].str.lower().str.startswith(('x', 'y', 'z')) & \n",
    "    df['Category'].str.startswith(('B', 'C', 'E')) & \n",
    "    (df['Reviews'] > 500)\n",
    "]\n",
    "df_monthly = df.groupby([pd.Grouper(key='Date', freq='ME'), 'Category'])['Installs'].sum().reset_index()\n",
    "df_monthly['MoM_Change'] = df_monthly.groupby('Category')['Installs'].pct_change()\n",
    "current_time = datetime.now(pytz.timezone('Asia/Kolkata'))\n"
   ]
  },
  {
   "cell_type": "code",
   "execution_count": 4,
   "id": "2d765d77-e89c-4dbc-a65d-b6909ac581a4",
   "metadata": {},
   "outputs": [
    {
     "name": "stdout",
     "output_type": "stream",
     "text": [
      "⛔ Visualization only available between 6 PM to 9 PM IST.\n"
     ]
    }
   ],
   "source": [
    "if 18 <= current_time.hour < 21:\n",
    "    \n",
    "    # Plot setup\n",
    "    plt.figure(figsize=(14, 8))\n",
    "    sns.set(style='whitegrid')\n",
    "    \n",
    "    categories = df_monthly['Category'].unique()\n",
    "    for category in categories:\n",
    "        sub_df = df_monthly[df_monthly['Category'] == category]\n",
    "        plt.plot(sub_df['Date'], sub_df['Installs'], label=category)\n",
    "\n",
    "        # Highlight areas with >20% MoM growth\n",
    "        growth_df = sub_df[sub_df['MoM_Change'] > 0.2]\n",
    "        plt.fill_between(growth_df['Date'], 0, growth_df['Installs'], alpha=0.3, label=f'{category} >20% MoM Growth')\n",
    "    \n",
    "    plt.title(\"Monthly Installs by Category with >20% MoM Growth Highlighted\")\n",
    "    plt.xlabel(\"Month\")\n",
    "    plt.ylabel(\"Total Installs\")\n",
    "    plt.legend()\n",
    "    plt.tight_layout()\n",
    "    plt.show()\n",
    "\n",
    "else:\n",
    "    print(\"⛔ Visualization only available between 6 PM to 9 PM IST.\")"
   ]
  },
  {
   "cell_type": "code",
   "execution_count": null,
   "id": "e3dff7d4-4dd5-48d1-a32f-a69183fea096",
   "metadata": {},
   "outputs": [],
   "source": []
  }
 ],
 "metadata": {
  "kernelspec": {
   "display_name": "Python 3 (ipykernel)",
   "language": "python",
   "name": "python3"
  },
  "language_info": {
   "codemirror_mode": {
    "name": "ipython",
    "version": 3
   },
   "file_extension": ".py",
   "mimetype": "text/x-python",
   "name": "python",
   "nbconvert_exporter": "python",
   "pygments_lexer": "ipython3",
   "version": "3.13.3"
  }
 },
 "nbformat": 4,
 "nbformat_minor": 5
}
